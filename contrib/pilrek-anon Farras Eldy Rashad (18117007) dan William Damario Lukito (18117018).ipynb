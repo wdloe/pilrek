{
 "cells": [
  {
   "cell_type": "code",
   "execution_count": 1,
   "metadata": {},
   "outputs": [],
   "source": [
    "import pandas as pd"
   ]
  },
  {
   "cell_type": "code",
   "execution_count": 4,
   "metadata": {},
   "outputs": [],
   "source": [
    "url = 'https://github.com/eueung/pilrek/raw/master/pilrek-anon.csv'\n",
    "df  = pd.read_csv(url)"
   ]
  },
  {
   "cell_type": "code",
   "execution_count": 5,
   "metadata": {},
   "outputs": [
    {
     "data": {
      "text/html": [
       "<div>\n",
       "<style scoped>\n",
       "    .dataframe tbody tr th:only-of-type {\n",
       "        vertical-align: middle;\n",
       "    }\n",
       "\n",
       "    .dataframe tbody tr th {\n",
       "        vertical-align: top;\n",
       "    }\n",
       "\n",
       "    .dataframe thead th {\n",
       "        text-align: right;\n",
       "    }\n",
       "</style>\n",
       "<table border=\"1\" class=\"dataframe\">\n",
       "  <thead>\n",
       "    <tr style=\"text-align: right;\">\n",
       "      <th></th>\n",
       "      <th>Timestamp</th>\n",
       "      <th>Kategori Anda</th>\n",
       "      <th>Kategori Umur Anda</th>\n",
       "      <th>CaRek Pilihan</th>\n",
       "      <th>Alasan Memilih CaRek</th>\n",
       "      <th>Harapan Anda</th>\n",
       "    </tr>\n",
       "  </thead>\n",
       "  <tbody>\n",
       "    <tr>\n",
       "      <th>2024</th>\n",
       "      <td>9/25/2019 8:54:33</td>\n",
       "      <td>Umum</td>\n",
       "      <td>25 - 40 th</td>\n",
       "      <td>Dicky Rezady Munaf (FSRD)</td>\n",
       "      <td>Keberhasilan dan prestasi</td>\n",
       "      <td>Yang bersangkutan telah berhasil dalam mengemb...</td>\n",
       "    </tr>\n",
       "    <tr>\n",
       "      <th>2025</th>\n",
       "      <td>9/26/2019 13:30:25</td>\n",
       "      <td>Pegawai / Tendik</td>\n",
       "      <td>25 - 40 th</td>\n",
       "      <td>Kadarsah Suryadi (FTI-TI)</td>\n",
       "      <td>Kecerdasan dan keberanian utk kemajuan ITB</td>\n",
       "      <td>NaN</td>\n",
       "    </tr>\n",
       "    <tr>\n",
       "      <th>2026</th>\n",
       "      <td>10/8/2019 14:28:00</td>\n",
       "      <td>Alumni</td>\n",
       "      <td>25 - 40 th</td>\n",
       "      <td>Dewi Larasati (SAPPK)</td>\n",
       "      <td>Emansipasi, kesetaraan dan kebhinekaan</td>\n",
       "      <td>NaN</td>\n",
       "    </tr>\n",
       "    <tr>\n",
       "      <th>2027</th>\n",
       "      <td>10/8/2019 14:59:53</td>\n",
       "      <td>Alumni</td>\n",
       "      <td>&gt; 40 th</td>\n",
       "      <td>Dewi Larasati (SAPPK)</td>\n",
       "      <td>Akhlak dan budi pekerti</td>\n",
       "      <td>ITB jadi universitas yang melahirkan tokoh2 du...</td>\n",
       "    </tr>\n",
       "    <tr>\n",
       "      <th>2028</th>\n",
       "      <td>10/8/2019 15:10:17</td>\n",
       "      <td>Alumni</td>\n",
       "      <td>&gt; 40 th</td>\n",
       "      <td>Dewi Larasati (SAPPK)</td>\n",
       "      <td>Sesuai dengan kriteria kekinian (Rektor 4.0)</td>\n",
       "      <td>Semoga terpilih dan sukses</td>\n",
       "    </tr>\n",
       "  </tbody>\n",
       "</table>\n",
       "</div>"
      ],
      "text/plain": [
       "               Timestamp     Kategori Anda Kategori Umur Anda  \\\n",
       "2024   9/25/2019 8:54:33              Umum         25 - 40 th   \n",
       "2025  9/26/2019 13:30:25  Pegawai / Tendik         25 - 40 th   \n",
       "2026  10/8/2019 14:28:00            Alumni         25 - 40 th   \n",
       "2027  10/8/2019 14:59:53            Alumni            > 40 th   \n",
       "2028  10/8/2019 15:10:17            Alumni            > 40 th   \n",
       "\n",
       "                  CaRek Pilihan                          Alasan Memilih CaRek  \\\n",
       "2024  Dicky Rezady Munaf (FSRD)                     Keberhasilan dan prestasi   \n",
       "2025  Kadarsah Suryadi (FTI-TI)    Kecerdasan dan keberanian utk kemajuan ITB   \n",
       "2026      Dewi Larasati (SAPPK)        Emansipasi, kesetaraan dan kebhinekaan   \n",
       "2027      Dewi Larasati (SAPPK)                       Akhlak dan budi pekerti   \n",
       "2028      Dewi Larasati (SAPPK)  Sesuai dengan kriteria kekinian (Rektor 4.0)   \n",
       "\n",
       "                                           Harapan Anda  \n",
       "2024  Yang bersangkutan telah berhasil dalam mengemb...  \n",
       "2025                                                NaN  \n",
       "2026                                                NaN  \n",
       "2027  ITB jadi universitas yang melahirkan tokoh2 du...  \n",
       "2028                         Semoga terpilih dan sukses  "
      ]
     },
     "execution_count": 5,
     "metadata": {},
     "output_type": "execute_result"
    }
   ],
   "source": [
    "df.tail()"
   ]
  },
  {
   "cell_type": "code",
   "execution_count": 6,
   "metadata": {},
   "outputs": [],
   "source": [
    "import matplotlib.pyplot as plt\n",
    "%matplotlib inline"
   ]
  },
  {
   "cell_type": "code",
   "execution_count": 7,
   "metadata": {},
   "outputs": [
    {
     "data": {
      "text/plain": [
       "Timestamp               object\n",
       "Kategori Anda           object\n",
       "Kategori Umur Anda      object\n",
       "CaRek Pilihan           object\n",
       "Alasan Memilih CaRek    object\n",
       "Harapan Anda            object\n",
       "dtype: object"
      ]
     },
     "execution_count": 7,
     "metadata": {},
     "output_type": "execute_result"
    }
   ],
   "source": [
    "df.shape\n",
    "df.dtypes"
   ]
  },
  {
   "cell_type": "code",
   "execution_count": 8,
   "metadata": {},
   "outputs": [
    {
     "data": {
      "text/plain": [
       "Timestamp                  0\n",
       "Kategori Anda              0\n",
       "Kategori Umur Anda         0\n",
       "CaRek Pilihan              0\n",
       "Alasan Memilih CaRek       0\n",
       "Harapan Anda            1123\n",
       "dtype: int64"
      ]
     },
     "execution_count": 8,
     "metadata": {},
     "output_type": "execute_result"
    }
   ],
   "source": [
    "df.isna().sum()"
   ]
  },
  {
   "cell_type": "code",
   "execution_count": 9,
   "metadata": {},
   "outputs": [
    {
     "name": "stdout",
     "output_type": "stream",
     "text": [
      "0    Kadarsah Suryadi (FTI-TI)\n",
      "dtype: object\n"
     ]
    }
   ],
   "source": [
    "#Menghitung nilai modus dari nama calon rektor\n",
    "CaRekPilihan_mode = df['CaRek Pilihan'].mode()\n",
    "print(CaRekPilihan_mode)"
   ]
  },
  {
   "cell_type": "code",
   "execution_count": 10,
   "metadata": {},
   "outputs": [
    {
     "data": {
      "text/html": [
       "<div>\n",
       "<style scoped>\n",
       "    .dataframe tbody tr th:only-of-type {\n",
       "        vertical-align: middle;\n",
       "    }\n",
       "\n",
       "    .dataframe tbody tr th {\n",
       "        vertical-align: top;\n",
       "    }\n",
       "\n",
       "    .dataframe thead th {\n",
       "        text-align: right;\n",
       "    }\n",
       "</style>\n",
       "<table border=\"1\" class=\"dataframe\">\n",
       "  <thead>\n",
       "    <tr style=\"text-align: right;\">\n",
       "      <th></th>\n",
       "      <th>Timestamp</th>\n",
       "      <th>Kategori Anda</th>\n",
       "      <th>Kategori Umur Anda</th>\n",
       "      <th>CaRek Pilihan</th>\n",
       "      <th>Alasan Memilih CaRek</th>\n",
       "      <th>Harapan Anda</th>\n",
       "    </tr>\n",
       "  </thead>\n",
       "  <tbody>\n",
       "    <tr>\n",
       "      <th>1760</th>\n",
       "      <td>9/6/2019 9:23:04</td>\n",
       "      <td>Pegawai / Tendik</td>\n",
       "      <td>25 - 40 th</td>\n",
       "      <td>Kadarsah Suryadi (FTI-TI)</td>\n",
       "      <td>Program ybs utk peningkatan income dan kesejah...</td>\n",
       "      <td>peningkatan income dan kesejahteraan dosen / p...</td>\n",
       "    </tr>\n",
       "    <tr>\n",
       "      <th>1822</th>\n",
       "      <td>9/8/2019 17:25:50</td>\n",
       "      <td>Umum</td>\n",
       "      <td>&gt; 40 th</td>\n",
       "      <td>Kadarsah Suryadi (FTI-TI)</td>\n",
       "      <td>Keberhasilan dan prestasi</td>\n",
       "      <td>NaN</td>\n",
       "    </tr>\n",
       "    <tr>\n",
       "      <th>1852</th>\n",
       "      <td>9/11/2019 8:51:05</td>\n",
       "      <td>Dosen</td>\n",
       "      <td>&gt; 40 th</td>\n",
       "      <td>Kadarsah Suryadi (FTI-TI)</td>\n",
       "      <td>Program ybs utk peningkatan income dan kesejah...</td>\n",
       "      <td>Rektor ITB ke depan fapat menjadi good father ...</td>\n",
       "    </tr>\n",
       "    <tr>\n",
       "      <th>2015</th>\n",
       "      <td>9/17/2019 22:27:18</td>\n",
       "      <td>Mahasiswa</td>\n",
       "      <td>&lt; 25 th</td>\n",
       "      <td>Kadarsah Suryadi (FTI-TI)</td>\n",
       "      <td>Sesuai dengan kriteria kekinian (Rektor 4.0)</td>\n",
       "      <td>NaN</td>\n",
       "    </tr>\n",
       "    <tr>\n",
       "      <th>2025</th>\n",
       "      <td>9/26/2019 13:30:25</td>\n",
       "      <td>Pegawai / Tendik</td>\n",
       "      <td>25 - 40 th</td>\n",
       "      <td>Kadarsah Suryadi (FTI-TI)</td>\n",
       "      <td>Kecerdasan dan keberanian utk kemajuan ITB</td>\n",
       "      <td>NaN</td>\n",
       "    </tr>\n",
       "  </tbody>\n",
       "</table>\n",
       "</div>"
      ],
      "text/plain": [
       "               Timestamp     Kategori Anda Kategori Umur Anda  \\\n",
       "1760    9/6/2019 9:23:04  Pegawai / Tendik         25 - 40 th   \n",
       "1822   9/8/2019 17:25:50              Umum            > 40 th   \n",
       "1852   9/11/2019 8:51:05             Dosen            > 40 th   \n",
       "2015  9/17/2019 22:27:18         Mahasiswa            < 25 th   \n",
       "2025  9/26/2019 13:30:25  Pegawai / Tendik         25 - 40 th   \n",
       "\n",
       "                  CaRek Pilihan  \\\n",
       "1760  Kadarsah Suryadi (FTI-TI)   \n",
       "1822  Kadarsah Suryadi (FTI-TI)   \n",
       "1852  Kadarsah Suryadi (FTI-TI)   \n",
       "2015  Kadarsah Suryadi (FTI-TI)   \n",
       "2025  Kadarsah Suryadi (FTI-TI)   \n",
       "\n",
       "                                   Alasan Memilih CaRek  \\\n",
       "1760  Program ybs utk peningkatan income dan kesejah...   \n",
       "1822                          Keberhasilan dan prestasi   \n",
       "1852  Program ybs utk peningkatan income dan kesejah...   \n",
       "2015       Sesuai dengan kriteria kekinian (Rektor 4.0)   \n",
       "2025         Kecerdasan dan keberanian utk kemajuan ITB   \n",
       "\n",
       "                                           Harapan Anda  \n",
       "1760  peningkatan income dan kesejahteraan dosen / p...  \n",
       "1822                                                NaN  \n",
       "1852  Rektor ITB ke depan fapat menjadi good father ...  \n",
       "2015                                                NaN  \n",
       "2025                                                NaN  "
      ]
     },
     "execution_count": 10,
     "metadata": {},
     "output_type": "execute_result"
    }
   ],
   "source": [
    "#Membuat dataframe baru yang berisi khusus ca-rektor favorite tersebut\n",
    "temp = df.groupby('CaRek Pilihan')\n",
    "fav = temp.get_group('Kadarsah Suryadi (FTI-TI)') #Parameter nama CaRek harus diganti apabila modus berubah\n",
    "fav.tail()"
   ]
  },
  {
   "cell_type": "code",
   "execution_count": 11,
   "metadata": {},
   "outputs": [
    {
     "data": {
      "text/plain": [
       "Alumni              83\n",
       "Pegawai / Tendik    82\n",
       "Umum                67\n",
       "Mahasiswa           57\n",
       "Dosen               35\n",
       "Name: Kategori Anda, dtype: int64"
      ]
     },
     "execution_count": 11,
     "metadata": {},
     "output_type": "execute_result"
    }
   ],
   "source": [
    "#Membuat nilai per kategori untuk \n",
    "fav['Kategori Anda'].value_counts()"
   ]
  },
  {
   "cell_type": "code",
   "execution_count": 12,
   "metadata": {},
   "outputs": [],
   "source": [
    "#PLOT RADAR CHART untuk power seorang CaRek\n",
    "#Terinspirasi dari Winning Eleven\n",
    "import matplotlib.pyplot as plt\n",
    "\n",
    "CaRek_voters = fav['Kategori Anda'].value_counts()\n"
   ]
  },
  {
   "cell_type": "code",
   "execution_count": 13,
   "metadata": {},
   "outputs": [
    {
     "data": {
      "text/html": [
       "<div>\n",
       "<style scoped>\n",
       "    .dataframe tbody tr th:only-of-type {\n",
       "        vertical-align: middle;\n",
       "    }\n",
       "\n",
       "    .dataframe tbody tr th {\n",
       "        vertical-align: top;\n",
       "    }\n",
       "\n",
       "    .dataframe thead th {\n",
       "        text-align: right;\n",
       "    }\n",
       "</style>\n",
       "<table border=\"1\" class=\"dataframe\">\n",
       "  <thead>\n",
       "    <tr style=\"text-align: right;\">\n",
       "      <th></th>\n",
       "      <th>Alumni</th>\n",
       "      <th>Pegawai / Tendik</th>\n",
       "      <th>Umum</th>\n",
       "      <th>Mahasiswa</th>\n",
       "      <th>Dosen</th>\n",
       "    </tr>\n",
       "  </thead>\n",
       "  <tbody>\n",
       "    <tr>\n",
       "      <th>Kadarsah Suryadi (FTI-TI)</th>\n",
       "      <td>83</td>\n",
       "      <td>82</td>\n",
       "      <td>67</td>\n",
       "      <td>57</td>\n",
       "      <td>35</td>\n",
       "    </tr>\n",
       "  </tbody>\n",
       "</table>\n",
       "</div>"
      ],
      "text/plain": [
       "                           Alumni  Pegawai / Tendik  Umum  Mahasiswa  Dosen\n",
       "Kadarsah Suryadi (FTI-TI)      83                82    67         57     35"
      ]
     },
     "execution_count": 13,
     "metadata": {},
     "output_type": "execute_result"
    }
   ],
   "source": [
    "from math import pi\n",
    "import matplotlib.pyplot as plt\n",
    "%matplotlib inline\n",
    "\n",
    "#Create a data frame from \"fav\"\n",
    "CaRekFav = fav['Kategori Anda'].value_counts()\n",
    "\n",
    "data = pd.DataFrame([CaRekFav], index = [CaRekPilihan_mode])\n",
    "data\n"
   ]
  },
  {
   "cell_type": "code",
   "execution_count": 14,
   "metadata": {},
   "outputs": [],
   "source": [
    "Attributes =list(data)\n",
    "AttNo = len(Attributes)"
   ]
  },
  {
   "cell_type": "code",
   "execution_count": 15,
   "metadata": {},
   "outputs": [
    {
     "data": {
      "image/png": "[encoded data removed]",
      "text/plain": [
       "<Figure size 432x288 with 1 Axes>"
      ]
     },
     "metadata": {
      "needs_background": "light"
     },
     "output_type": "display_data"
    }
   ],
   "source": [
    "# Plots a radar chart.\n",
    " \n",
    "# Set data\n",
    "cat = Attributes\n",
    "values = [83, 82, 67, 57, 35] #nilai harus diganti apabila nilai berganti\n",
    " \n",
    "N = len(cat)\n",
    " \n",
    "x_as = [n / float(N) * 2 * pi for n in range(N)]\n",
    " \n",
    "# Because our chart will be circular we need to append a copy of the first \n",
    "# value of each list at the end of each list with data\n",
    "values += values[:1]\n",
    "x_as += x_as[:1]\n",
    " \n",
    " \n",
    "# Set color of axes\n",
    "plt.rc('axes', linewidth=0.5, edgecolor=\"#888888\")\n",
    " \n",
    " \n",
    "# Create polar plot\n",
    "ax = plt.subplot(111, polar=True)\n",
    " \n",
    " \n",
    "# Set clockwise rotation. That is:\n",
    "ax.set_theta_offset(pi / 2)\n",
    "ax.set_theta_direction(-1)\n",
    " \n",
    " \n",
    "# Set position of y-labels\n",
    "ax.set_rlabel_position(0)\n",
    " \n",
    " \n",
    "# Set color and linestyle of grid\n",
    "ax.xaxis.grid(True, color=\"#888888\", linestyle='solid', linewidth=0.5)\n",
    "ax.yaxis.grid(True, color=\"#888888\", linestyle='solid', linewidth=0.5)\n",
    " \n",
    " \n",
    "# Set number of radial axes and remove labels\n",
    "plt.xticks(x_as[:-1], [])\n",
    " \n",
    "# Set yticks\n",
    "plt.yticks([20, 40, 60, 80, 100], [\"20\", \"40\", \"60\", \"80\", \"100\"])\n",
    " \n",
    " \n",
    "# Plot data\n",
    "ax.plot(x_as, values, linewidth=0, linestyle='solid', zorder=3)\n",
    " \n",
    "# Fill area\n",
    "ax.fill(x_as, values, 'b', alpha=0.3)\n",
    " \n",
    " \n",
    "# Set axes limits\n",
    "plt.ylim(0, 100)\n",
    " \n",
    " \n",
    "# Draw ytick labels to make sure they fit properly\n",
    "for i in range(N):\n",
    "    angle_rad = i / float(N) * 2 * pi\n",
    " \n",
    "    if angle_rad == 0:\n",
    "        ha, distance_ax = \"center\", 10\n",
    "    elif 0 < angle_rad < pi:\n",
    "        ha, distance_ax = \"left\", 1\n",
    "    elif angle_rad == pi:\n",
    "        ha, distance_ax = \"center\", 1\n",
    "    else:\n",
    "        ha, distance_ax = \"right\", 1\n",
    " \n",
    "    ax.text(angle_rad, 100 + distance_ax, cat[i], size=10, horizontalalignment=ha, verticalalignment=\"center\")\n",
    " \n",
    "# Show polar plot\n",
    "plt.title(\"Kekuatan CaRek Favorit - Anonim\")\n",
    "plt.show()"
   ]
  },
  {
   "cell_type": "raw",
   "metadata": {},
   "source": []
  },
  {
   "cell_type": "code",
   "execution_count": 16,
   "metadata": {
    "scrolled": true
   },
   "outputs": [],
   "source": [
    "#PLOT TIMESTAMP\n",
    "df['Timestamp'] = pd.to_datetime(df['Timestamp'])"
   ]
  },
  {
   "cell_type": "code",
   "execution_count": 17,
   "metadata": {},
   "outputs": [
    {
     "data": {
      "text/plain": [
       "2024     8\n",
       "2025    13\n",
       "2026    14\n",
       "2027    14\n",
       "2028    15\n",
       "Name: TimestampH, dtype: int64"
      ]
     },
     "execution_count": 17,
     "metadata": {},
     "output_type": "execute_result"
    }
   ],
   "source": [
    "df['TimestampH']=df.Timestamp.dt.hour\n",
    "df['TimestampH'].tail()"
   ]
  },
  {
   "cell_type": "code",
   "execution_count": 18,
   "metadata": {},
   "outputs": [],
   "source": [
    "hour=df.loc[df.Timestamp.dt.hour==9].sort_values('TimestampH').tail()"
   ]
  },
  {
   "cell_type": "code",
   "execution_count": null,
   "metadata": {},
   "outputs": [],
   "source": []
  },
  {
   "cell_type": "code",
   "execution_count": 19,
   "metadata": {},
   "outputs": [
    {
     "data": {
      "text/plain": [
       "pandas.core.series.Series"
      ]
     },
     "execution_count": 19,
     "metadata": {},
     "output_type": "execute_result"
    }
   ],
   "source": [
    "type(df['TimestampH'])"
   ]
  },
  {
   "cell_type": "code",
   "execution_count": 20,
   "metadata": {},
   "outputs": [
    {
     "data": {
      "text/plain": [
       "Text(0.5, 1.0, 'Timestamp Jam Pengisian Survey - Anonim')"
      ]
     },
     "execution_count": 20,
     "metadata": {},
     "output_type": "execute_result"
    },
    {
     "data": {
      "image/png": "[encoded data removed]",
      "text/plain": [
       "<Figure size 432x288 with 1 Axes>"
      ]
     },
     "metadata": {
      "needs_background": "light"
     },
     "output_type": "display_data"
    }
   ],
   "source": [
    "df['TimestampH'].value_counts(sort=False).plot()\n",
    "plt.xlabel(\"Jam UTC+7\")\n",
    "plt.ylabel(\"Jumlah Pengisian\")\n",
    "plt.title(\"Timestamp Jam Pengisian Survey - Anonim\")"
   ]
  },
  {
   "cell_type": "code",
   "execution_count": null,
   "metadata": {},
   "outputs": [],
   "source": []
  }
 ],
 "metadata": {
  "kernelspec": {
   "display_name": "Python 3",
   "language": "python",
   "name": "python3"
  },
  "language_info": {
   "codemirror_mode": {
    "name": "ipython",
    "version": 3
   },
   "file_extension": ".py",
   "mimetype": "text/x-python",
   "name": "python",
   "nbconvert_exporter": "python",
   "pygments_lexer": "ipython3",
   "version": "3.7.3"
  },
  "toc": {
   "base_numbering": 1,
   "nav_menu": {},
   "number_sections": true,
   "sideBar": true,
   "skip_h1_title": false,
   "title_cell": "Table of Contents",
   "title_sidebar": "Contents",
   "toc_cell": false,
   "toc_position": {},
   "toc_section_display": true,
   "toc_window_display": false
  }
 },
 "nbformat": 4,
 "nbformat_minor": 2
}
