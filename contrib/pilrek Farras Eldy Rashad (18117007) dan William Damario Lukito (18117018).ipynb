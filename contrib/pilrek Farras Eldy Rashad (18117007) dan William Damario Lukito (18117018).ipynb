{
 "cells": [
  {
   "cell_type": "code",
   "execution_count": 2,
   "metadata": {},
   "outputs": [],
   "source": [
    "import pandas as pd"
   ]
  },
  {
   "cell_type": "code",
   "execution_count": 3,
   "metadata": {},
   "outputs": [],
   "source": [
    "url = 'https://github.com/eueung/pilrek/raw/master/pilrek.csv'\n",
    "df  = pd.read_csv(url)"
   ]
  },
  {
   "cell_type": "code",
   "execution_count": 4,
   "metadata": {},
   "outputs": [
    {
     "data": {
      "text/html": [
       "<div>\n",
       "<style scoped>\n",
       "    .dataframe tbody tr th:only-of-type {\n",
       "        vertical-align: middle;\n",
       "    }\n",
       "\n",
       "    .dataframe tbody tr th {\n",
       "        vertical-align: top;\n",
       "    }\n",
       "\n",
       "    .dataframe thead th {\n",
       "        text-align: right;\n",
       "    }\n",
       "</style>\n",
       "<table border=\"1\" class=\"dataframe\">\n",
       "  <thead>\n",
       "    <tr style=\"text-align: right;\">\n",
       "      <th></th>\n",
       "      <th>Timestamp</th>\n",
       "      <th>Kategori Anda</th>\n",
       "      <th>Kategori Umur Anda</th>\n",
       "      <th>CaRek Pilihan</th>\n",
       "      <th>Alasan Memilih CaRek</th>\n",
       "      <th>Harapan Anda</th>\n",
       "    </tr>\n",
       "  </thead>\n",
       "  <tbody>\n",
       "    <tr>\n",
       "      <th>971</th>\n",
       "      <td>10/4/2019 15:38:56</td>\n",
       "      <td>Alumni</td>\n",
       "      <td>&gt; 40 th</td>\n",
       "      <td>I Nyoman Pugeg Aryantha (SITH)</td>\n",
       "      <td>Emansipasi, kesetaraan dan kebhinekaan</td>\n",
       "      <td>Sesekali Rektor ITB orang Bali</td>\n",
       "    </tr>\n",
       "    <tr>\n",
       "      <th>972</th>\n",
       "      <td>10/7/2019 9:04:03</td>\n",
       "      <td>Mahasiswa</td>\n",
       "      <td>&lt; 25 th</td>\n",
       "      <td>Edy Tri Baskoro (FMIPA-MA)</td>\n",
       "      <td>Alumni SMPP Jombang</td>\n",
       "      <td>Dapat menjalankan amanah kepemimpinan ITB</td>\n",
       "    </tr>\n",
       "    <tr>\n",
       "      <th>973</th>\n",
       "      <td>10/8/2019 8:52:14</td>\n",
       "      <td>Dosen</td>\n",
       "      <td>25 - 40 th</td>\n",
       "      <td>Ary Setiaji Prihatmanto (STEI)</td>\n",
       "      <td>Kapabilitas ybs utk meningkatkan ranking ITB</td>\n",
       "      <td>NaN</td>\n",
       "    </tr>\n",
       "    <tr>\n",
       "      <th>974</th>\n",
       "      <td>10/8/2019 11:45:04</td>\n",
       "      <td>Alumni</td>\n",
       "      <td>25 - 40 th</td>\n",
       "      <td>Ary Setiaji Prihatmanto (STEI)</td>\n",
       "      <td>Akhlak dan budi pekerti</td>\n",
       "      <td>NaN</td>\n",
       "    </tr>\n",
       "    <tr>\n",
       "      <th>975</th>\n",
       "      <td>10/14/2019 13:50:34</td>\n",
       "      <td>Alumni</td>\n",
       "      <td>&lt; 25 th</td>\n",
       "      <td>Gusti Ayu Putri Saptawati S (STEI)</td>\n",
       "      <td>Sesuai dengan kriteria kekinian (Rektor 4.0)</td>\n",
       "      <td>Jangan marah karena saya gocek dari jadi ca do...</td>\n",
       "    </tr>\n",
       "  </tbody>\n",
       "</table>\n",
       "</div>"
      ],
      "text/plain": [
       "               Timestamp Kategori Anda Kategori Umur Anda  \\\n",
       "971   10/4/2019 15:38:56        Alumni            > 40 th   \n",
       "972    10/7/2019 9:04:03     Mahasiswa            < 25 th   \n",
       "973    10/8/2019 8:52:14         Dosen         25 - 40 th   \n",
       "974   10/8/2019 11:45:04        Alumni         25 - 40 th   \n",
       "975  10/14/2019 13:50:34        Alumni            < 25 th   \n",
       "\n",
       "                          CaRek Pilihan  \\\n",
       "971      I Nyoman Pugeg Aryantha (SITH)   \n",
       "972          Edy Tri Baskoro (FMIPA-MA)   \n",
       "973      Ary Setiaji Prihatmanto (STEI)   \n",
       "974      Ary Setiaji Prihatmanto (STEI)   \n",
       "975  Gusti Ayu Putri Saptawati S (STEI)   \n",
       "\n",
       "                             Alasan Memilih CaRek  \\\n",
       "971        Emansipasi, kesetaraan dan kebhinekaan   \n",
       "972                           Alumni SMPP Jombang   \n",
       "973  Kapabilitas ybs utk meningkatkan ranking ITB   \n",
       "974                       Akhlak dan budi pekerti   \n",
       "975  Sesuai dengan kriteria kekinian (Rektor 4.0)   \n",
       "\n",
       "                                          Harapan Anda  \n",
       "971                     Sesekali Rektor ITB orang Bali  \n",
       "972          Dapat menjalankan amanah kepemimpinan ITB  \n",
       "973                                                NaN  \n",
       "974                                                NaN  \n",
       "975  Jangan marah karena saya gocek dari jadi ca do...  "
      ]
     },
     "execution_count": 4,
     "metadata": {},
     "output_type": "execute_result"
    }
   ],
   "source": [
    "df.tail()"
   ]
  },
  {
   "cell_type": "code",
   "execution_count": 5,
   "metadata": {},
   "outputs": [],
   "source": [
    "import matplotlib.pyplot as plt\n",
    "%matplotlib inline"
   ]
  },
  {
   "cell_type": "code",
   "execution_count": 6,
   "metadata": {},
   "outputs": [
    {
     "data": {
      "text/plain": [
       "Timestamp               object\n",
       "Kategori Anda           object\n",
       "Kategori Umur Anda      object\n",
       "CaRek Pilihan           object\n",
       "Alasan Memilih CaRek    object\n",
       "Harapan Anda            object\n",
       "dtype: object"
      ]
     },
     "execution_count": 6,
     "metadata": {},
     "output_type": "execute_result"
    }
   ],
   "source": [
    "df.shape\n",
    "df.dtypes"
   ]
  },
  {
   "cell_type": "code",
   "execution_count": 7,
   "metadata": {},
   "outputs": [
    {
     "data": {
      "text/plain": [
       "Timestamp                 0\n",
       "Kategori Anda             0\n",
       "Kategori Umur Anda        0\n",
       "CaRek Pilihan             0\n",
       "Alasan Memilih CaRek      0\n",
       "Harapan Anda            320\n",
       "dtype: int64"
      ]
     },
     "execution_count": 7,
     "metadata": {},
     "output_type": "execute_result"
    }
   ],
   "source": [
    "df.isna().sum()"
   ]
  },
  {
   "cell_type": "code",
   "execution_count": 8,
   "metadata": {},
   "outputs": [
    {
     "name": "stdout",
     "output_type": "stream",
     "text": [
      "0    Acep Purqon (FMIPA-FI)\n",
      "dtype: object\n"
     ]
    }
   ],
   "source": [
    "#Menghitung nilai modus dari nama calon rektor\n",
    "CaRekPilihan_mode = df['CaRek Pilihan'].mode()\n",
    "print(CaRekPilihan_mode)"
   ]
  },
  {
   "cell_type": "code",
   "execution_count": 9,
   "metadata": {},
   "outputs": [
    {
     "data": {
      "text/html": [
       "<div>\n",
       "<style scoped>\n",
       "    .dataframe tbody tr th:only-of-type {\n",
       "        vertical-align: middle;\n",
       "    }\n",
       "\n",
       "    .dataframe tbody tr th {\n",
       "        vertical-align: top;\n",
       "    }\n",
       "\n",
       "    .dataframe thead th {\n",
       "        text-align: right;\n",
       "    }\n",
       "</style>\n",
       "<table border=\"1\" class=\"dataframe\">\n",
       "  <thead>\n",
       "    <tr style=\"text-align: right;\">\n",
       "      <th></th>\n",
       "      <th>Timestamp</th>\n",
       "      <th>Kategori Anda</th>\n",
       "      <th>Kategori Umur Anda</th>\n",
       "      <th>CaRek Pilihan</th>\n",
       "      <th>Alasan Memilih CaRek</th>\n",
       "      <th>Harapan Anda</th>\n",
       "    </tr>\n",
       "  </thead>\n",
       "  <tbody>\n",
       "    <tr>\n",
       "      <th>922</th>\n",
       "      <td>9/14/2019 14:13:36</td>\n",
       "      <td>Umum</td>\n",
       "      <td>25 - 40 th</td>\n",
       "      <td>Acep Purqon (FMIPA-FI)</td>\n",
       "      <td>Sesuai dengan kriteria kekinian (Rektor 4.0)</td>\n",
       "      <td>NaN</td>\n",
       "    </tr>\n",
       "    <tr>\n",
       "      <th>929</th>\n",
       "      <td>9/14/2019 17:07:49</td>\n",
       "      <td>Alumni</td>\n",
       "      <td>&gt; 40 th</td>\n",
       "      <td>Acep Purqon (FMIPA-FI)</td>\n",
       "      <td>Sesuai dengan kriteria kekinian (Rektor 4.0)</td>\n",
       "      <td>Acep mampu membawa ITB menyongsong revolusi in...</td>\n",
       "    </tr>\n",
       "    <tr>\n",
       "      <th>957</th>\n",
       "      <td>9/20/2019 7:17:43</td>\n",
       "      <td>Mahasiswa</td>\n",
       "      <td>&lt; 25 th</td>\n",
       "      <td>Acep Purqon (FMIPA-FI)</td>\n",
       "      <td>Kapabilitas ybs utk memajukan riset dan indust...</td>\n",
       "      <td>NaN</td>\n",
       "    </tr>\n",
       "    <tr>\n",
       "      <th>958</th>\n",
       "      <td>9/20/2019 7:43:46</td>\n",
       "      <td>Alumni</td>\n",
       "      <td>25 - 40 th</td>\n",
       "      <td>Acep Purqon (FMIPA-FI)</td>\n",
       "      <td>Muda dan berenergi</td>\n",
       "      <td>NaN</td>\n",
       "    </tr>\n",
       "    <tr>\n",
       "      <th>962</th>\n",
       "      <td>9/21/2019 22:06:23</td>\n",
       "      <td>Alumni</td>\n",
       "      <td>&lt; 25 th</td>\n",
       "      <td>Acep Purqon (FMIPA-FI)</td>\n",
       "      <td>Muda dan berenergi</td>\n",
       "      <td>NaN</td>\n",
       "    </tr>\n",
       "  </tbody>\n",
       "</table>\n",
       "</div>"
      ],
      "text/plain": [
       "              Timestamp Kategori Anda Kategori Umur Anda  \\\n",
       "922  9/14/2019 14:13:36          Umum         25 - 40 th   \n",
       "929  9/14/2019 17:07:49        Alumni            > 40 th   \n",
       "957   9/20/2019 7:17:43     Mahasiswa            < 25 th   \n",
       "958   9/20/2019 7:43:46        Alumni         25 - 40 th   \n",
       "962  9/21/2019 22:06:23        Alumni            < 25 th   \n",
       "\n",
       "              CaRek Pilihan  \\\n",
       "922  Acep Purqon (FMIPA-FI)   \n",
       "929  Acep Purqon (FMIPA-FI)   \n",
       "957  Acep Purqon (FMIPA-FI)   \n",
       "958  Acep Purqon (FMIPA-FI)   \n",
       "962  Acep Purqon (FMIPA-FI)   \n",
       "\n",
       "                                  Alasan Memilih CaRek  \\\n",
       "922       Sesuai dengan kriteria kekinian (Rektor 4.0)   \n",
       "929       Sesuai dengan kriteria kekinian (Rektor 4.0)   \n",
       "957  Kapabilitas ybs utk memajukan riset dan indust...   \n",
       "958                                 Muda dan berenergi   \n",
       "962                                 Muda dan berenergi   \n",
       "\n",
       "                                          Harapan Anda  \n",
       "922                                                NaN  \n",
       "929  Acep mampu membawa ITB menyongsong revolusi in...  \n",
       "957                                                NaN  \n",
       "958                                                NaN  \n",
       "962                                                NaN  "
      ]
     },
     "execution_count": 9,
     "metadata": {},
     "output_type": "execute_result"
    }
   ],
   "source": [
    "#Membuat dataframe baru yang berisi khusus ca-rektor favorite tersebut\n",
    "temp = df.groupby('CaRek Pilihan')\n",
    "fav = temp.get_group('Acep Purqon (FMIPA-FI)') #Parameter nama CaRek harus diganti apabila modus berubah\n",
    "fav.tail()"
   ]
  },
  {
   "cell_type": "code",
   "execution_count": 10,
   "metadata": {},
   "outputs": [
    {
     "data": {
      "text/plain": [
       "Umum                102\n",
       "Alumni               81\n",
       "Mahasiswa            57\n",
       "Dosen                33\n",
       "Pegawai / Tendik      7\n",
       "Name: Kategori Anda, dtype: int64"
      ]
     },
     "execution_count": 10,
     "metadata": {},
     "output_type": "execute_result"
    }
   ],
   "source": [
    "#Membuat nilai per kategori untuk \n",
    "fav['Kategori Anda'].value_counts()"
   ]
  },
  {
   "cell_type": "code",
   "execution_count": 11,
   "metadata": {},
   "outputs": [],
   "source": [
    "#PLOT RADAR CHART untuk power seorang CaRek\n",
    "#Terinspirasi dari Winning Eleven\n",
    "import matplotlib.pyplot as plt\n",
    "\n",
    "CaRek_voters = fav['Kategori Anda'].value_counts()\n"
   ]
  },
  {
   "cell_type": "code",
   "execution_count": 12,
   "metadata": {},
   "outputs": [
    {
     "data": {
      "text/html": [
       "<div>\n",
       "<style scoped>\n",
       "    .dataframe tbody tr th:only-of-type {\n",
       "        vertical-align: middle;\n",
       "    }\n",
       "\n",
       "    .dataframe tbody tr th {\n",
       "        vertical-align: top;\n",
       "    }\n",
       "\n",
       "    .dataframe thead th {\n",
       "        text-align: right;\n",
       "    }\n",
       "</style>\n",
       "<table border=\"1\" class=\"dataframe\">\n",
       "  <thead>\n",
       "    <tr style=\"text-align: right;\">\n",
       "      <th></th>\n",
       "      <th>Umum</th>\n",
       "      <th>Alumni</th>\n",
       "      <th>Mahasiswa</th>\n",
       "      <th>Dosen</th>\n",
       "      <th>Pegawai / Tendik</th>\n",
       "    </tr>\n",
       "  </thead>\n",
       "  <tbody>\n",
       "    <tr>\n",
       "      <th></th>\n",
       "      <td>102</td>\n",
       "      <td>81</td>\n",
       "      <td>57</td>\n",
       "      <td>33</td>\n",
       "      <td>7</td>\n",
       "    </tr>\n",
       "  </tbody>\n",
       "</table>\n",
       "</div>"
      ],
      "text/plain": [
       "  Umum  Alumni  Mahasiswa  Dosen  Pegawai / Tendik\n",
       "   102      81         57     33                 7"
      ]
     },
     "execution_count": 12,
     "metadata": {},
     "output_type": "execute_result"
    }
   ],
   "source": [
    "from math import pi\n",
    "%matplotlib inline\n",
    "\n",
    "#Create a data frame from \"fav\"\n",
    "CaRekFav = fav['Kategori Anda'].value_counts()\n",
    "\n",
    "data = pd.DataFrame([CaRekFav], index = [\"\"])\n",
    "data\n"
   ]
  },
  {
   "cell_type": "code",
   "execution_count": 13,
   "metadata": {},
   "outputs": [],
   "source": [
    "Attributes =list(data)\n",
    "AttNo = len(Attributes)"
   ]
  },
  {
   "cell_type": "code",
   "execution_count": 14,
   "metadata": {},
   "outputs": [
    {
     "data": {
      "image/png": "[encoded data removed]",
      "text/plain": [
       "<Figure size 432x288 with 1 Axes>"
      ]
     },
     "metadata": {
      "needs_background": "light"
     },
     "output_type": "display_data"
    }
   ],
   "source": [
    "# Plots a radar chart.\n",
    " \n",
    "# Set data\n",
    "cat = Attributes\n",
    "values = [102, 81, 57, 33, 7] #nilai harus diganti apabila nilai berganti\n",
    " \n",
    "N = len(cat)\n",
    " \n",
    "x_as = [n / float(N) * 2 * pi for n in range(N)]\n",
    " \n",
    "# Because our chart will be circular we need to append a copy of the first \n",
    "# value of each list at the end of each list with data\n",
    "values += values[:1]\n",
    "x_as += x_as[:1]\n",
    " \n",
    " \n",
    "# Set color of axes\n",
    "plt.rc('axes', linewidth=0.5, edgecolor=\"#888888\")\n",
    " \n",
    " \n",
    "# Create polar plot\n",
    "ax = plt.subplot(111, polar=True)\n",
    " \n",
    " \n",
    "# Set clockwise rotation. That is:\n",
    "ax.set_theta_offset(pi / 2)\n",
    "ax.set_theta_direction(-1)\n",
    " \n",
    " \n",
    "# Set position of y-labels\n",
    "ax.set_rlabel_position(0)\n",
    " \n",
    " \n",
    "# Set color and linestyle of grid\n",
    "ax.xaxis.grid(True, color=\"#888888\", linestyle='solid', linewidth=0.5)\n",
    "ax.yaxis.grid(True, color=\"#888888\", linestyle='solid', linewidth=0.5)\n",
    " \n",
    " \n",
    "# Set number of radial axes and remove labels\n",
    "plt.xticks(x_as[:-1], [])\n",
    " \n",
    "# Set yticks\n",
    "plt.yticks([20, 40, 60, 80, 100], [\"20\", \"40\", \"60\", \"80\", \"100\"])\n",
    " \n",
    " \n",
    "# Plot data\n",
    "ax.plot(x_as, values, linewidth=0, linestyle='solid', zorder=3)\n",
    " \n",
    "# Fill area\n",
    "ax.fill(x_as, values, 'b', alpha=0.3)\n",
    " \n",
    " \n",
    "# Set axes limits\n",
    "plt.ylim(0, 100)\n",
    " \n",
    " \n",
    "# Draw ytick labels to make sure they fit properly\n",
    "for i in range(N):\n",
    "    angle_rad = i / float(N) * 2 * pi\n",
    " \n",
    "    if angle_rad == 0:\n",
    "        ha, distance_ax = \"center\", 10\n",
    "    elif 0 < angle_rad < pi:\n",
    "        ha, distance_ax = \"left\", 1\n",
    "    elif angle_rad == pi:\n",
    "        ha, distance_ax = \"center\", 1\n",
    "    else:\n",
    "        ha, distance_ax = \"right\", 1\n",
    " \n",
    "    ax.text(angle_rad, 100 + distance_ax, cat[i], size=10, horizontalalignment=ha, verticalalignment=\"center\")\n",
    " \n",
    "# Show polar plot\n",
    "plt.title(\"Kekuatan CaRek Favorit - E-mail\")\n",
    "plt.show()"
   ]
  },
  {
   "cell_type": "code",
   "execution_count": 15,
   "metadata": {},
   "outputs": [],
   "source": [
    "#PLOT TIMESTAMP\n",
    "df['Timestamp'] = pd.to_datetime(df['Timestamp'])"
   ]
  },
  {
   "cell_type": "code",
   "execution_count": 16,
   "metadata": {},
   "outputs": [
    {
     "data": {
      "text/plain": [
       "971    15\n",
       "972     9\n",
       "973     8\n",
       "974    11\n",
       "975    13\n",
       "Name: TimestampH, dtype: int64"
      ]
     },
     "execution_count": 16,
     "metadata": {},
     "output_type": "execute_result"
    }
   ],
   "source": [
    "df['TimestampH']=df.Timestamp.dt.hour\n",
    "df['TimestampH'].tail()"
   ]
  },
  {
   "cell_type": "code",
   "execution_count": 17,
   "metadata": {},
   "outputs": [],
   "source": [
    "hour=df.loc[df.Timestamp.dt.hour==9].sort_values('TimestampH').tail()"
   ]
  },
  {
   "cell_type": "code",
   "execution_count": null,
   "metadata": {},
   "outputs": [],
   "source": []
  },
  {
   "cell_type": "code",
   "execution_count": 18,
   "metadata": {},
   "outputs": [
    {
     "data": {
      "text/plain": [
       "pandas.core.series.Series"
      ]
     },
     "execution_count": 18,
     "metadata": {},
     "output_type": "execute_result"
    }
   ],
   "source": [
    "type(df['TimestampH'])"
   ]
  },
  {
   "cell_type": "code",
   "execution_count": 19,
   "metadata": {},
   "outputs": [
    {
     "data": {
      "text/plain": [
       "Text(0.5, 1.0, 'Timestamp Jam Pengisian Survey - Email')"
      ]
     },
     "execution_count": 19,
     "metadata": {},
     "output_type": "execute_result"
    },
    {
     "data": {
      "image/png": "[encoded data removed]",
      "text/plain": [
       "<Figure size 432x288 with 1 Axes>"
      ]
     },
     "metadata": {
      "needs_background": "light"
     },
     "output_type": "display_data"
    }
   ],
   "source": [
    "df['TimestampH'].value_counts(sort=False).plot()\n",
    "plt.xlabel(\"Jam UTC+7\")\n",
    "plt.ylabel(\"Jumlah Pengisian\")\n",
    "plt.title(\"Timestamp Jam Pengisian Survey - Email\")"
   ]
  },
  {
   "cell_type": "code",
   "execution_count": null,
   "metadata": {},
   "outputs": [],
   "source": []
  }
 ],
 "metadata": {
  "kernelspec": {
   "display_name": "Python 3",
   "language": "python",
   "name": "python3"
  },
  "language_info": {
   "codemirror_mode": {
    "name": "ipython",
    "version": 3
   },
   "file_extension": ".py",
   "mimetype": "text/x-python",
   "name": "python",
   "nbconvert_exporter": "python",
   "pygments_lexer": "ipython3",
   "version": "3.7.3"
  },
  "toc": {
   "base_numbering": 1,
   "nav_menu": {},
   "number_sections": true,
   "sideBar": true,
   "skip_h1_title": false,
   "title_cell": "Table of Contents",
   "title_sidebar": "Contents",
   "toc_cell": false,
   "toc_position": {},
   "toc_section_display": true,
   "toc_window_display": false
  }
 },
 "nbformat": 4,
 "nbformat_minor": 2
}
